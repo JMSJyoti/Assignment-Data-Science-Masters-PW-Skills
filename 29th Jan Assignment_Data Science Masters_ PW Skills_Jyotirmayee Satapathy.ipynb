{
 "cells": [
  {
   "cell_type": "markdown",
   "id": "5f01842a-7c26-4b40-b85f-90c16a4e1d4c",
   "metadata": {},
   "source": [
    "# 29th Jan Assignment_Data Science Masters_Pw Skills\n",
    "## Submitted by: Jyotirmayee Satapathy"
   ]
  },
  {
   "cell_type": "markdown",
   "id": "e6ebdd3d-77a9-44b4-b8c5-0c8c8e9baac4",
   "metadata": {},
   "source": [
    "## 1.Q. Who developed Python Programming Language? "
   ]
  },
  {
   "cell_type": "markdown",
   "id": "39dafe68-b0e8-4f7e-a7d3-2e5da78269c2",
   "metadata": {},
   "source": [
    "### A. Python Programming Language is developed by Guido van Rossum and first released on February 20, 1991. "
   ]
  },
  {
   "cell_type": "markdown",
   "id": "25819386-23f5-42d0-972c-58f837ac45ef",
   "metadata": {},
   "source": [
    "## 2.Q. Which type of programming does python support?"
   ]
  },
  {
   "cell_type": "markdown",
   "id": "3d26cb54-1c00-434f-8b50-72ebfe8de89f",
   "metadata": {},
   "source": [
    "### A. Python supports various programming paradigms like Procedural Programming, Object-Oriented Programming (OOP), Functional Programming, Imperative Programming, Reflective Programming, Prolog and Logic Programming, Metaprogramming, Aspect-Oriented Programming (AOP), Concurrent Programming, Event-Driven Programming, Scripting, Web Development, Scientific Computing, Data Analysis and Visualization, Machine Learning and Artificial Intelligence, Natural Language Processing (NLP), Game Development etc."
   ]
  },
  {
   "cell_type": "markdown",
   "id": "1558cdc7-a80a-4dbb-8281-9b33f1366be6",
   "metadata": {},
   "source": [
    "## 3. Q. Is python case sensitive when dealing with identifiers?"
   ]
  },
  {
   "cell_type": "markdown",
   "id": "ca68ee72-04b0-4d03-8972-6471d1375ab6",
   "metadata": {},
   "source": [
    "### A. Yes, Python is case-sensitive when dealing with identifiers. This means that variables, function names, class names, and other identifiers must be typed with consistent capitalization."
   ]
  },
  {
   "cell_type": "markdown",
   "id": "713c42e4-7218-4822-9347-b03d7927336f",
   "metadata": {},
   "source": [
    "## 4.Q. what is the correct extension of python file?"
   ]
  },
  {
   "cell_type": "markdown",
   "id": "9f4a5ff9-6ee3-4749-94c1-6dcb95ced2c9",
   "metadata": {},
   "source": [
    "### A. The correct extension for Python files is .py."
   ]
  },
  {
   "cell_type": "markdown",
   "id": "fb837ad6-9da1-4443-ac1a-11446c8874c2",
   "metadata": {},
   "source": [
    "## 5.Q. Is pyhton code compiled or interpreted?"
   ]
  },
  {
   "cell_type": "markdown",
   "id": "afdd032b-1df8-4853-9567-f8b746f3d7c0",
   "metadata": {},
   "source": [
    "### A. Python is an interpreted language, which means that it is not compiled into machine code before execution. Instead, Python code is executed line by line by the Python interpreter."
   ]
  },
  {
   "cell_type": "markdown",
   "id": "ac7e2052-7634-4ec6-9f16-fb445e866eb2",
   "metadata": {},
   "source": [
    "## 6.Q. Name a few block of codes used to define in python language."
   ]
  },
  {
   "cell_type": "markdown",
   "id": "3417d945-1da5-4d9c-9dfd-69905b1573c3",
   "metadata": {},
   "source": [
    "### A. In Python, blocks of code are defined using indentation. Indentation is crucial for defining the structure of your code. Few common blocks of code in Python are function definition, conditional statements (if, elif, else), Loops (for, while), class definition, with statement (used for context management), try-except blocks (for exception handling), defining context managers (using __enter__ and __exit__ methods). These are some of the common blocks of code used in Python. Each of them is defined by its indentation level, which groups together the statements that belong to that block."
   ]
  },
  {
   "cell_type": "markdown",
   "id": "4a6b3652-c851-4b25-a776-33ec8791b101",
   "metadata": {},
   "source": [
    "## 7.Q. State a character used to give single line comment in python."
   ]
  },
  {
   "cell_type": "markdown",
   "id": "94914f97-eb1d-4f12-85b1-68a0f297ccc2",
   "metadata": {},
   "source": [
    "### A. In Python, the character used to denote a single-line comment is the hash symbol (#). Anything written after # on the same line is considered a comment and is ignored by the Python interpreter."
   ]
  },
  {
   "cell_type": "markdown",
   "id": "32180bc5-f50d-4cf3-a46f-3f8b5850b40c",
   "metadata": {},
   "source": [
    "## 8. Q. Mention functions which can help us to find the version of python that we are currently working on."
   ]
  },
  {
   "cell_type": "markdown",
   "id": "86a14cf5-9e28-4684-89c1-31d5466fc42d",
   "metadata": {},
   "source": [
    "### A.\tWe can use the following functions to find out the version of Python you're currently using: \n",
    "#### sys.version\n",
    "#### import sys\n",
    "#### print (sys.version)\n",
    "#### This will print the full version string of the Python interpreter.\n",
    "#### platform.python_version():\n",
    "#### import platform\n",
    "#### print(platform.python_version())\n",
    "#### This function specifically returns the version of the Python interpreter.\n",
    "#### sys.version_info:\n",
    "#### import sys\n",
    "#### print(sys.version_info)\n",
    "#### This returns a tuple with detailed version information, including major, minor, micro, releaselevel, and serial."
   ]
  },
  {
   "cell_type": "markdown",
   "id": "d3b24654-2960-4940-999e-66a39aa3ebb3",
   "metadata": {},
   "source": [
    "## 9. Q. Python supports the creation of anonymous function at runtime, using a construct called _____."
   ]
  },
  {
   "cell_type": "markdown",
   "id": "8fc6b016-34d9-40f3-b8c8-c1b3a09684ba",
   "metadata": {},
   "source": [
    "### A.\tPython supports the creation of anonymous function at runtime, using a construct called lambda."
   ]
  },
  {
   "cell_type": "markdown",
   "id": "8084be52-4adf-4c92-8118-b95730372f96",
   "metadata": {},
   "source": [
    "## 10.Q. What does pip stands for Python?"
   ]
  },
  {
   "cell_type": "markdown",
   "id": "dded2dee-c218-4e99-8204-93880414df8c",
   "metadata": {},
   "source": [
    "### A. pip stands for \"Pip Installs Packages\". It's a package manager for Python, used to install and manage software packages written in Python. It helps us to easily install, upgrade, and remove Python packages and their dependencies."
   ]
  },
  {
   "cell_type": "markdown",
   "id": "2e306786-d72a-48f0-806e-ac6c89ea1397",
   "metadata": {},
   "source": [
    "## 11. Q. Mention a few build in function in Python."
   ]
  },
  {
   "cell_type": "markdown",
   "id": "a8b74f5a-019f-4481-b74a-ba32da8e6998",
   "metadata": {},
   "source": [
    "### A.\tThe following functions are some of the build in function in Python.\n",
    "#### print(): Used to print output to the console.\n",
    "#### len(): Returns the length of an object (e.g., a string, list, etc.).\n",
    "#### input(): Reads a line from the console and returns it as a string.\n",
    "#### int(): Converts a number or a string to an integer.\n",
    "#### float(): Converts a number or a string to a floating-point number.\n",
    "#### str(): Converts an object into a string.\n",
    "#### list(): Creates a list.\n",
    "#### tuple(): Creates a tuple.\n",
    "#### dict(): Creates a dictionary.\n",
    "#### set(): Creates a set. range(): Generates a sequence of numbers.\n",
    "#### max(): Returns the largest item in an iterable or the largest of two or more arguments.\n",
    "#### min(): Returns the smallest item in an iterable or the smallest of two or more arguments.\n",
    "#### sum(): Returns the sum of all items in an iterable."
   ]
  },
  {
   "cell_type": "markdown",
   "id": "c3af853e-6c21-4876-ae5f-a899efffd404",
   "metadata": {},
   "source": [
    "## 12.Q. What is the maximum possible range of an identifier in Python?"
   ]
  },
  {
   "cell_type": "markdown",
   "id": "76b3ef19-5b5e-4730-a4df-4c61aacf853c",
   "metadata": {},
   "source": [
    "### A. In Python, the maximum possible range of an identifier (i.e., the name of a variable, function, class, etc.) is not explicitly defined by a specific number of characters. Instead, the length of an identifier is practically unlimited, but it's recommended to keep it reasonable for the sake of readability and maintainability of your code."
   ]
  },
  {
   "cell_type": "markdown",
   "id": "4ddb0e0b-51a3-4e8e-8c9c-117cecc2e16f",
   "metadata": {},
   "source": [
    "## 13.Q. What are the benefits of using Python?"
   ]
  },
  {
   "cell_type": "markdown",
   "id": "63363299-e38e-495a-a57b-12c0656e9cc0",
   "metadata": {},
   "source": [
    "### A.\tUsing Python as a programming language offers several benefits, which contribute to its popularity and widespread adoption. Here are some of the key advantages of using Python:\n",
    "#### (i)\tReadability and Simplicity: Python is known for its clean and readable syntax. This makes it easier to write and maintain code, reducing the cost of program development and maintenance.\n",
    "#### (ii)\tVersatility: Python is a versatile language that can be used for a wide range of tasks, including web development, scientific computing, data analysis, artificial intelligence, machine learning, automation, scripting, and more.\n",
    "#### (iii)\tLarge Standard Library: Python comes with a comprehensive standard library that provides pre-built modules and packages for various tasks. This minimizes the need to write code from scratch and accelerates development.\n",
    "#### (iv)\tPlatform Independence: Python is a cross-platform language, meaning code written in Python can run on different operating systems (Windows, macOS, Linux) without modification.\n",
    "#### (v)\tInterpreted Nature: Python is an interpreted language, which means you can run code directly without the need for compilation. This makes the development process faster and more interactive.\n",
    "#### (vi)\tDynamic Typing: Python uses dynamic typing, allowing you to assign variables without specifying their data type. This leads to more flexibility and faster development.\n",
    "#### (vii)\tStrong Community and Support: Python has a large and active community of developers. This means there is a wealth of resources, libraries, frameworks, and forums available for support and collaboration.\n",
    "#### (viii)\tExtensive Ecosystem: Python has a rich ecosystem of third-party libraries and frameworks for various domains, including web development (Django, Flask), data science (NumPy, pandas), machine learning (TensorFlow, PyTorch), and more.\n",
    "#### (ix)\tIntegration Capabilities: Python can be easily integrated with other languages, making it a valuable tool in a mixed-technology environment.\n",
    "#### (x)\tData Handling and Analysis: Python is widely used for data handling, analysis, and visualization. Libraries like pandas, NumPy, and Matplotlib provide powerful tools for working with data.\n",
    "#### (xi)\tArtificial Intelligence and Machine Learning: Python has become the de facto language for artificial intelligence and machine learning projects. It has popular libraries such as TensorFlow, PyTorch, and scikit-learn.\n",
    "#### (xii)\tAutomation and Scripting: Python is excellent for writing scripts and automating tasks. It's often used for tasks like data manipulation, file handling, and system administration."
   ]
  },
  {
   "cell_type": "markdown",
   "id": "9a6583f3-c128-4d3d-b935-90208792ff2f",
   "metadata": {},
   "source": [
    "## 14.Q. How is memory managed in Python?"
   ]
  },
  {
   "cell_type": "markdown",
   "id": "1e4abb22-a1e6-4562-b409-0682c81334aa",
   "metadata": {},
   "source": [
    "### A.\tMemory management in Python is handled by a private heap space that the Python interpreter manages. Here's how it works:\n",
    "#### (i)\tPrivate Heap Space: Python has its own private heap space for storing all objects and data structures. This heap space is managed by the Python memory manager.\n",
    "#### (ii)\tDynamic Allocation and Deallocation: The memory manager in Python handles dynamic allocation and deallocation of memory for Python objects. It keeps track of which parts of the heap are in use and which are not.\n",
    "#### (iii)\tReference Counting: Python uses a technique called reference counting to keep track of the number of references to an object. When an object's reference count drops to zero, it means there are no more references to it, and the memory occupied by the object can be reclaimed.\n",
    "#### (iv)\tGarbage Collection: In addition to reference counting, Python also employs a garbage collector. The garbage collector is responsible for finding and cleaning up circular references (objects that reference each other in a loop). This ensures that memory is properly deallocated even in complex situations.\n",
    "#### (v)\tMemory Pools: Python's memory manager also uses a system of memory pools for small objects. Objects of the same size are grouped into pools, which can be more efficiently managed.\n",
    "#### (vi)\tMemory Allocation Strategies: Python uses different strategies for allocating memory depending on the size of the object. Small objects (less than 512 bytes) are managed with a dedicated allocator, while larger objects are handled differently.\n",
    "#### (vii)\tMemory Fragmentation: Memory fragmentation can occur in long-running Python programs. This happens when the memory manager is not able to effectively reclaim unused memory due to the layout of objects in memory. The gc module provides tools for managing the garbage collector and can be used to deal with fragmentation.\n",
    "#### (viii)\tMemory Views: Python provides the memoryview object, which allows direct access to an object’s memory and can be used to perform fast array operations.\n",
    "### Python's automatic memory management takes care of the details, which allows developers to focus on writing code without worrying about low-level memory operations."
   ]
  },
  {
   "cell_type": "markdown",
   "id": "cf4df8be-991f-4e36-a118-9ec05f670384",
   "metadata": {},
   "source": [
    "## 15.Q. How to install Python on windows and set path variables?"
   ]
  },
  {
   "cell_type": "markdown",
   "id": "e99b1eca-e9f0-4290-9eec-a69dc7af9cf8",
   "metadata": {},
   "source": [
    "### A.\tInstalling Python on Windows is a straightforward process. Here are step-by-step instructions:\n",
    "### Installing Python on Windows:\n",
    "#### (i)\tDownload Python:\n",
    "#### Go to the official Python website at python.org, and click on the \"Downloads\" tab. Choose the latest version of Python for Windows.\n",
    "#### (ii)\tRun the Installer:\n",
    "#### •\tOnce the installer file is downloaded, double-click it to run the installer.\n",
    "#### •\tCheck the box that says \"Add Python x.x to PATH\" before clicking \"Install Now\". This will automatically set the PATH variable during installation.\n",
    "#### (iii)\tCustomize Installation (Optional):\n",
    "#### If we want to customize the installation, click on the \"Customize installation\" button. This allows us to select optional features or change the installation directory.\n",
    "#### (iv)\tComplete the Installation:\n",
    "#### The installer will now copy the necessary files and set up Python on our system. Once complete, we'll see a screen indicating a successful installation.\n",
    "### Setting PATH Variables (if not done during installation):\n",
    "#### If for some reason we didn't check the box to add Python to our PATH during installation, we can manually add it:\n",
    "#### (i)\tFind Python Installation Directory:\n",
    "#### Locate the directory where Python is installed. By default, it's in a folder like C:\\Python39 (the version number may vary).\n",
    "#### (ii)\tAdd Python to PATH:\n",
    "#### •\tOpen the Start menu and search for \"Environment Variables\" or \"Edit the system environment variables\" and click on the result that appears.\n",
    "#### •\tIn the System Properties window, click on the \"Environment Variables...\" button.\n",
    "#### •\tIn the Environment Variables window, under \"System variables\", scroll down and select the \"Path\" variable, then click \"Edit\".\n",
    "#### •\tClick on \"New\" and add the path to the directory where Python is installed (e.g., C:\\Python39). Click \"OK\" to close all the windows."
   ]
  },
  {
   "cell_type": "markdown",
   "id": "6f5fecdc-35a5-4fbe-8c2b-dc1eb5614582",
   "metadata": {},
   "source": [
    "## 16.Q. Is the indentation required in Python?"
   ]
  },
  {
   "cell_type": "markdown",
   "id": "0cc26cb5-3fb6-495a-b095-a99933cae9a8",
   "metadata": {},
   "source": [
    "### A.\tYes, indentation is required in Python. Python uses indentation to indicate blocks of code. Indentation is crucial in Python because it determines the grouping of statements. It is used to define the scope of functions, loops, conditional statements, and other control structures. Incorrect indentation can lead to syntax errors or result in unintended behavior. \n",
    "### The level of indentation (typically using spaces or tabs) must be consistent within a block of code. Mixing spaces and tabs for indentation can lead to errors. Python, indentation is not just a matter of style; it's a fundamental aspect of the language's syntax and structure. This is one of the reasons why Python code tends to be very readable and clean, as consistent indentation is enforced by the language itself."
   ]
  },
  {
   "cell_type": "code",
   "execution_count": null,
   "id": "49479b2b-d090-4a34-92f6-086456fa7b5a",
   "metadata": {},
   "outputs": [],
   "source": []
  }
 ],
 "metadata": {
  "kernelspec": {
   "display_name": "Python 3 (ipykernel)",
   "language": "python",
   "name": "python3"
  },
  "language_info": {
   "codemirror_mode": {
    "name": "ipython",
    "version": 3
   },
   "file_extension": ".py",
   "mimetype": "text/x-python",
   "name": "python",
   "nbconvert_exporter": "python",
   "pygments_lexer": "ipython3",
   "version": "3.10.8"
  }
 },
 "nbformat": 4,
 "nbformat_minor": 5
}
